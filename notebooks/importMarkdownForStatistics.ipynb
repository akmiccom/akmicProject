{
 "cells": [
  {
   "cell_type": "code",
   "execution_count": 2,
   "metadata": {},
   "outputs": [],
   "source": [
    "import os\n",
    "import re\n",
    "import glob\n",
    "from markdown import Markdown"
   ]
  },
  {
   "cell_type": "code",
   "execution_count": 23,
   "metadata": {},
   "outputs": [
    {
     "data": {
      "text/plain": [
       "({'chapter': '01',\n",
       "  'section': '01',\n",
       "  'title': '統計学とは',\n",
       "  'category': 'statistics',\n",
       "  'author': 'makoto yaguchi'},\n",
       " '## No.1- aaa## No.2- bbb')"
      ]
     },
     "execution_count": 23,
     "metadata": {},
     "output_type": "execute_result"
    }
   ],
   "source": [
    "markdown_dir = r'C:\\python\\akmicProject\\statisticsBlogs\\markdown\\0101.md'\n",
    "\n",
    "for file in glob.glob(markdown_dir):\n",
    "    fileName = os.path.splitext(os.path.basename(file))[0]\n",
    "    chapter = fileName[:2]\n",
    "    section = fileName[2:]\n",
    "\n",
    "    with open(file, 'r', encoding='utf-8') as f:\n",
    "        lines = [t.strip() for t in f.readlines()]\n",
    "        start, end = [i for i, t in enumerate(lines) if re.search(r'^-{3}', t)]\n",
    "    # Markdownファイルからメタデータを抽出\n",
    "    metadata = {\n",
    "        'chapter': chapter,\n",
    "        'section': section,\n",
    "    }\n",
    "    metadata_lines = lines[start+1:end]\n",
    "    # print(metadata_lines)\n",
    "    for metadata_line in metadata_lines:\n",
    "        key, value = metadata_line.split(':')\n",
    "        metadata[key.strip().lower()] = value.strip().lower()\n",
    "    text = ''.join(lines[end+1:])\n",
    "    # print(metadata)\n",
    "    md = Markdown(extensions=['extra'])\n",
    "    markdown = md.convert(text)\n",
    "\n",
    "metadata, text"
   ]
  },
  {
   "cell_type": "code",
   "execution_count": 9,
   "metadata": {},
   "outputs": [],
   "source": [
    "markdown_dir = r'C:\\python\\akmicProject\\akmicProject\\blogs\\markdown\\*.md'\n",
    "\n",
    "for file in glob.glob(markdown_dir):\n",
    "    fileName = os.path.splitext(os.path.basename(file))[0]\n",
    "    chapter = fileName[:2]\n",
    "    section = fileName[2:]\n",
    "    print(chapter, section)\n",
    "    with open(file, 'r', encoding='utf-8') as f:\n",
    "        lines = [t.strip() for t in f.readlines()]\n",
    "        start, end = [i for i, t in enumerate(lines) if re.search(r'^-{3}', t)]\n",
    "    # Markdownファイルからメタデータを抽出\n",
    "    metadata = {}\n",
    "    metadata_lines = lines[start+1:end]\n",
    "    # print(metadata_lines)\n",
    "    for metadata_line in metadata_lines:\n",
    "        key, value = metadata_line.split(':')\n",
    "        metadata[key.strip().lower()] = value.strip().lower()\n",
    "    text = '\\n'.join(lines[end+1:])\n",
    "    # print(metadata)\n",
    "    md = Markdown(extensions=['extra'])\n",
    "    markdown = md.convert(text)\n",
    "    \n",
    "    \n",
    "    print(metadata['title'])\n",
    "    print(metadata['category'])\n",
    "    print(metadata['author'])\n",
    "    print(markdown)\n",
    "\n",
    "        # # ブログ記事をモデルに保存\n",
    "        # BlogPost.objects.create(\n",
    "        #     title=metadata.get('title', 'No Title'),\n",
    "        #     author=metadata.get('author', 'Anonymous'),\n",
    "        #     content=content\n",
    "        # )\n"
   ]
  },
  {
   "cell_type": "code",
   "execution_count": 1,
   "metadata": {},
   "outputs": [
    {
     "data": {
      "text/plain": [
       "['01', '02', '03', '04', '05', '06', '07', '08', '09', '10', '11', '12', '13']"
      ]
     },
     "execution_count": 1,
     "metadata": {},
     "output_type": "execute_result"
    }
   ],
   "source": [
    "[f'{i+1:02}' for i in range(13)]"
   ]
  }
 ],
 "metadata": {
  "kernelspec": {
   "display_name": "Python 3",
   "language": "python",
   "name": "python3"
  },
  "language_info": {
   "codemirror_mode": {
    "name": "ipython",
    "version": 3
   },
   "file_extension": ".py",
   "mimetype": "text/x-python",
   "name": "python",
   "nbconvert_exporter": "python",
   "pygments_lexer": "ipython3",
   "version": "3.10.9"
  }
 },
 "nbformat": 4,
 "nbformat_minor": 2
}
