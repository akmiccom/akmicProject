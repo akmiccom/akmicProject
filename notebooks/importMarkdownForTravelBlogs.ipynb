{
 "cells": [
  {
   "cell_type": "code",
   "execution_count": 1,
   "metadata": {},
   "outputs": [],
   "source": [
    "import os\n",
    "import re\n",
    "import glob\n",
    "from markdown import Markdown"
   ]
  },
  {
   "cell_type": "code",
   "execution_count": 4,
   "metadata": {},
   "outputs": [
    {
     "data": {
      "text/plain": [
       "{'text': '\\n# ニューヨーク旅行の計画\\n\\n## 航空券\\n- ANA\\n\\n## ホテル\\n- Marriott\\n\\n## 観光\\n- New York',\n",
       " 'title': 'ニューヨーク旅行の計画',\n",
       " 'category': '海外旅行',\n",
       " 'author': 'makoto yaguchi'}"
      ]
     },
     "execution_count": 4,
     "metadata": {},
     "output_type": "execute_result"
    }
   ],
   "source": [
    "markdown_dir = r'C:\\python\\akmicProject\\travelBlogs\\markdown\\planningTripToNewyork.md'\n",
    "\n",
    "for file in glob.glob(markdown_dir):\n",
    "    with open(file, 'r', encoding='utf-8') as f:\n",
    "        lines = [t.strip() for t in f.readlines()]\n",
    "        start, end = [i for i, t in enumerate(lines) if re.search(r'^-{3}', t)]\n",
    "    metadata = {\n",
    "        'text': '\\n'.join(lines[end+1:]),\n",
    "        }\n",
    "    metadata_lines = lines[start+1:end]\n",
    "    for metadata_line in metadata_lines:\n",
    "        key, value = metadata_line.split(':')\n",
    "        metadata[key.strip().lower()] = value.strip().lower()\n",
    "    text = ''.join(lines[end+1:])\n",
    "    md = Markdown(extensions=['extra'])\n",
    "    markdown = md.convert(text)\n",
    "\n",
    "metadata\n"
   ]
  },
  {
   "cell_type": "code",
   "execution_count": 9,
   "metadata": {},
   "outputs": [],
   "source": [
    "markdown_dir = r'C:\\python\\akmicProject\\akmicProject\\blogs\\markdown\\*.md'\n",
    "\n",
    "for file in glob.glob(markdown_dir):\n",
    "    fileName = os.path.splitext(os.path.basename(file))[0]\n",
    "    chapter = fileName[:2]\n",
    "    section = fileName[2:]\n",
    "    print(chapter, section)\n",
    "    with open(file, 'r', encoding='utf-8') as f:\n",
    "        lines = [t.strip() for t in f.readlines()]\n",
    "        start, end = [i for i, t in enumerate(lines) if re.search(r'^-{3}', t)]\n",
    "    # Markdownファイルからメタデータを抽出\n",
    "    metadata = {}\n",
    "    metadata_lines = lines[start+1:end]\n",
    "    # print(metadata_lines)\n",
    "    for metadata_line in metadata_lines:\n",
    "        key, value = metadata_line.split(':')\n",
    "        metadata[key.strip().lower()] = value.strip().lower()\n",
    "    text = '\\n'.join(lines[end+1:])\n",
    "    # print(metadata)\n",
    "    md = Markdown(extensions=['extra'])\n",
    "    markdown = md.convert(text)\n",
    "    \n",
    "    \n",
    "    print(metadata['title'])\n",
    "    print(metadata['category'])\n",
    "    print(metadata['author'])\n",
    "    print(markdown)\n",
    "\n",
    "        # # ブログ記事をモデルに保存\n",
    "        # BlogPost.objects.create(\n",
    "        #     title=metadata.get('title', 'No Title'),\n",
    "        #     author=metadata.get('author', 'Anonymous'),\n",
    "        #     content=content\n",
    "        # )\n"
   ]
  },
  {
   "cell_type": "code",
   "execution_count": 1,
   "metadata": {},
   "outputs": [
    {
     "data": {
      "text/plain": [
       "['01', '02', '03', '04', '05', '06', '07', '08', '09', '10', '11', '12', '13']"
      ]
     },
     "execution_count": 1,
     "metadata": {},
     "output_type": "execute_result"
    }
   ],
   "source": [
    "[f'{i+1:02}' for i in range(13)]"
   ]
  },
  {
   "cell_type": "code",
   "execution_count": 5,
   "metadata": {},
   "outputs": [
    {
     "data": {
      "text/plain": [
       "{'text': '\\n# ニューヨーク旅行の計画\\n\\n## 航空券\\n- ANA\\n\\n## ホテル\\n- Marriott\\n\\n## 観光\\n- New York',\n",
       " 'title': 'ニューヨーク旅行の計画',\n",
       " 'category': '海外旅行',\n",
       " 'author': 'makoto yaguchi'}"
      ]
     },
     "execution_count": 5,
     "metadata": {},
     "output_type": "execute_result"
    }
   ],
   "source": [
    "markdown_dir = r'C:\\python\\akmicProject\\travelBlogs\\markdown\\planningTripToNewyork.md'\n",
    "\n",
    "def readMarkdown(file):\n",
    "    with open(file, 'r', encoding='utf-8') as f:\n",
    "        lines = [t.strip() for t in f.readlines()]\n",
    "        start, end = [i for i, t in enumerate(lines) if re.search(r'^-{3}', t)]\n",
    "    # Markdownファイルからメタデータを抽出\n",
    "    metadata = {\n",
    "        'text': '\\n'.join(lines[end+1:]),\n",
    "        }\n",
    "    metadata_lines = lines[start+1:end]\n",
    "    for metadata_line in metadata_lines:\n",
    "        key, value = metadata_line.split(':')\n",
    "        metadata[key.strip().lower()] = value.strip().lower()\n",
    "    \n",
    "    return metadata\n",
    "\n",
    "readMarkdown(markdown_dir)"
   ]
  }
 ],
 "metadata": {
  "kernelspec": {
   "display_name": "Python 3",
   "language": "python",
   "name": "python3"
  },
  "language_info": {
   "codemirror_mode": {
    "name": "ipython",
    "version": 3
   },
   "file_extension": ".py",
   "mimetype": "text/x-python",
   "name": "python",
   "nbconvert_exporter": "python",
   "pygments_lexer": "ipython3",
   "version": "3.10.9"
  }
 },
 "nbformat": 4,
 "nbformat_minor": 2
}
